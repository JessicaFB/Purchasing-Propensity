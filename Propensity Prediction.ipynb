{
 "cells": [
  {
   "cell_type": "markdown",
   "metadata": {
    "toc": true
   },
   "source": [
    "<h1>Table of Contents<span class=\"tocSkip\"></span></h1>\n",
    "<div class=\"toc\"><ul class=\"toc-item\"><li><span><a href=\"#Predicting-Prospect-Propensity\" data-toc-modified-id=\"Predicting-Prospect-Propensity-1\"><span class=\"toc-item-num\">1&nbsp;&nbsp;</span>Predicting Prospect Propensity</a></span><ul class=\"toc-item\"><li><span><a href=\"#Loading-and-Viewing-Data\" data-toc-modified-id=\"Loading-and-Viewing-Data-1.1\"><span class=\"toc-item-num\">1.1&nbsp;&nbsp;</span>Loading and Viewing Data</a></span><ul class=\"toc-item\"><li><span><a href=\"#Perform-Correlation-Analysis\" data-toc-modified-id=\"Perform-Correlation-Analysis-1.1.1\"><span class=\"toc-item-num\">1.1.1&nbsp;&nbsp;</span>Perform Correlation Analysis</a></span></li></ul></li><li><span><a href=\"#Training-and-Testing-Split\" data-toc-modified-id=\"Training-and-Testing-Split-1.2\"><span class=\"toc-item-num\">1.2&nbsp;&nbsp;</span>Training and Testing Split</a></span></li><li><span><a href=\"#Build-Model-and-Check-Accuracy\" data-toc-modified-id=\"Build-Model-and-Check-Accuracy-1.3\"><span class=\"toc-item-num\">1.3&nbsp;&nbsp;</span>Build Model and Check Accuracy</a></span></li><li><span><a href=\"#Real-time-predictions\" data-toc-modified-id=\"Real-time-predictions-1.4\"><span class=\"toc-item-num\">1.4&nbsp;&nbsp;</span>Real-time predictions</a></span></li></ul></li></ul></div>"
   ]
  },
  {
   "cell_type": "markdown",
   "metadata": {},
   "source": [
    " # Predicting Prospect Propensity"
   ]
  },
  {
   "cell_type": "markdown",
   "metadata": {},
   "source": [
    "In this example, we will show you how to predict propensity of prospects. This code example goes with the lesson with the same title. We will use web clicks data about the links clicked by the user while the user is browsing to predict their propensity to buy the product. Using that propensity, we will decide whether we want to offer chat to the customer with an agent."
   ]
  },
  {
   "cell_type": "markdown",
   "metadata": {},
   "source": [
    "## Loading and Viewing Data\n",
    "We will load the data file for this example and checkout summary statistics and columns for that file."
   ]
  },
  {
   "cell_type": "code",
   "execution_count": 2,
   "metadata": {
    "scrolled": true
   },
   "outputs": [
    {
     "name": "stdout",
     "output_type": "stream",
     "text": [
      "<class 'pandas.core.frame.DataFrame'>\n",
      "RangeIndex: 500 entries, 0 to 499\n",
      "Data columns (total 12 columns):\n",
      "SESSION_ID         500 non-null int64\n",
      "IMAGES             500 non-null int64\n",
      "REVIEWS            500 non-null int64\n",
      "FAQ                500 non-null int64\n",
      "SPECS              500 non-null int64\n",
      "SHIPPING           500 non-null int64\n",
      "BOUGHT_TOGETHER    500 non-null int64\n",
      "COMPARE_SIMILAR    500 non-null int64\n",
      "VIEW_SIMILAR       500 non-null int64\n",
      "WARRANTY           500 non-null int64\n",
      "SPONSORED_LINKS    500 non-null int64\n",
      "BUY                500 non-null int64\n",
      "dtypes: int64(12)\n",
      "memory usage: 47.0 KB\n"
     ]
    }
   ],
   "source": [
    "# Import libraries & packages\n",
    "import pandas as pd\n",
    "import numpy as np\n",
    "import os\n",
    "import matplotlib.pylab as plt\n",
    "from sklearn.model_selection  import train_test_split\n",
    "from sklearn.tree import DecisionTreeClassifier\n",
    "from sklearn.metrics import classification_report\n",
    "import sklearn.metrics\n",
    "\n",
    "# Import data\n",
    "prospect_data = pd.read_csv(\"browsing.csv\")\n",
    "\n",
    "# Preview data info\n",
    "prospect_data.info()"
   ]
  },
  {
   "cell_type": "markdown",
   "metadata": {},
   "source": [
    "We can see this is a pretty small data set at 500 entries. However, for our purposes of learning and prototyping, this should suffice. In the real world we may have millions of entries/data points. \n",
    "\n",
    "The data contains information about the various links on the website that are clicked by the user during browsing. This is the data that will be used to build the model:\n",
    "\n",
    "- **Session ID :** A unique identifier for the web browsing session\n",
    "- **Buy :** Whether the prospect ended up buying the product\n",
    "- **Other columns :** a 0 or 1 indicator to show whether the prospect visited that particular page or did the activity mentioned.\n"
   ]
  },
  {
   "cell_type": "code",
   "execution_count": 4,
   "metadata": {},
   "outputs": [
    {
     "data": {
      "text/html": [
       "<div>\n",
       "<style scoped>\n",
       "    .dataframe tbody tr th:only-of-type {\n",
       "        vertical-align: middle;\n",
       "    }\n",
       "\n",
       "    .dataframe tbody tr th {\n",
       "        vertical-align: top;\n",
       "    }\n",
       "\n",
       "    .dataframe thead th {\n",
       "        text-align: right;\n",
       "    }\n",
       "</style>\n",
       "<table border=\"1\" class=\"dataframe\">\n",
       "  <thead>\n",
       "    <tr style=\"text-align: right;\">\n",
       "      <th></th>\n",
       "      <th>SESSION_ID</th>\n",
       "      <th>IMAGES</th>\n",
       "      <th>REVIEWS</th>\n",
       "      <th>FAQ</th>\n",
       "      <th>SPECS</th>\n",
       "      <th>SHIPPING</th>\n",
       "      <th>BOUGHT_TOGETHER</th>\n",
       "      <th>COMPARE_SIMILAR</th>\n",
       "      <th>VIEW_SIMILAR</th>\n",
       "      <th>WARRANTY</th>\n",
       "      <th>SPONSORED_LINKS</th>\n",
       "      <th>BUY</th>\n",
       "    </tr>\n",
       "  </thead>\n",
       "  <tbody>\n",
       "    <tr>\n",
       "      <td>0</td>\n",
       "      <td>1001</td>\n",
       "      <td>0</td>\n",
       "      <td>0</td>\n",
       "      <td>1</td>\n",
       "      <td>0</td>\n",
       "      <td>1</td>\n",
       "      <td>0</td>\n",
       "      <td>0</td>\n",
       "      <td>0</td>\n",
       "      <td>1</td>\n",
       "      <td>0</td>\n",
       "      <td>0</td>\n",
       "    </tr>\n",
       "    <tr>\n",
       "      <td>1</td>\n",
       "      <td>1002</td>\n",
       "      <td>0</td>\n",
       "      <td>1</td>\n",
       "      <td>1</td>\n",
       "      <td>0</td>\n",
       "      <td>0</td>\n",
       "      <td>0</td>\n",
       "      <td>0</td>\n",
       "      <td>0</td>\n",
       "      <td>0</td>\n",
       "      <td>1</td>\n",
       "      <td>0</td>\n",
       "    </tr>\n",
       "    <tr>\n",
       "      <td>2</td>\n",
       "      <td>1003</td>\n",
       "      <td>1</td>\n",
       "      <td>0</td>\n",
       "      <td>1</td>\n",
       "      <td>1</td>\n",
       "      <td>1</td>\n",
       "      <td>0</td>\n",
       "      <td>0</td>\n",
       "      <td>0</td>\n",
       "      <td>1</td>\n",
       "      <td>0</td>\n",
       "      <td>0</td>\n",
       "    </tr>\n",
       "    <tr>\n",
       "      <td>3</td>\n",
       "      <td>1004</td>\n",
       "      <td>1</td>\n",
       "      <td>0</td>\n",
       "      <td>0</td>\n",
       "      <td>0</td>\n",
       "      <td>1</td>\n",
       "      <td>1</td>\n",
       "      <td>1</td>\n",
       "      <td>0</td>\n",
       "      <td>0</td>\n",
       "      <td>0</td>\n",
       "      <td>0</td>\n",
       "    </tr>\n",
       "    <tr>\n",
       "      <td>4</td>\n",
       "      <td>1005</td>\n",
       "      <td>1</td>\n",
       "      <td>1</td>\n",
       "      <td>1</td>\n",
       "      <td>0</td>\n",
       "      <td>1</td>\n",
       "      <td>0</td>\n",
       "      <td>1</td>\n",
       "      <td>0</td>\n",
       "      <td>0</td>\n",
       "      <td>0</td>\n",
       "      <td>0</td>\n",
       "    </tr>\n",
       "  </tbody>\n",
       "</table>\n",
       "</div>"
      ],
      "text/plain": [
       "   SESSION_ID  IMAGES  REVIEWS  FAQ  SPECS  SHIPPING  BOUGHT_TOGETHER  \\\n",
       "0        1001       0        0    1      0         1                0   \n",
       "1        1002       0        1    1      0         0                0   \n",
       "2        1003       1        0    1      1         1                0   \n",
       "3        1004       1        0    0      0         1                1   \n",
       "4        1005       1        1    1      0         1                0   \n",
       "\n",
       "   COMPARE_SIMILAR  VIEW_SIMILAR  WARRANTY  SPONSORED_LINKS  BUY  \n",
       "0                0             0         1                0    0  \n",
       "1                0             0         0                1    0  \n",
       "2                0             0         1                0    0  \n",
       "3                1             0         0                0    0  \n",
       "4                1             0         0                0    0  "
      ]
     },
     "execution_count": 4,
     "metadata": {},
     "output_type": "execute_result"
    }
   ],
   "source": [
    "# Preview data\n",
    "prospect_data.head()"
   ]
  },
  {
   "cell_type": "markdown",
   "metadata": {},
   "source": [
    "We can see **BUY** is out target variable, and the rest are our predictor variables. "
   ]
  },
  {
   "cell_type": "code",
   "execution_count": 3,
   "metadata": {},
   "outputs": [
    {
     "data": {
      "text/html": [
       "<div>\n",
       "<style scoped>\n",
       "    .dataframe tbody tr th:only-of-type {\n",
       "        vertical-align: middle;\n",
       "    }\n",
       "\n",
       "    .dataframe tbody tr th {\n",
       "        vertical-align: top;\n",
       "    }\n",
       "\n",
       "    .dataframe thead th {\n",
       "        text-align: right;\n",
       "    }\n",
       "</style>\n",
       "<table border=\"1\" class=\"dataframe\">\n",
       "  <thead>\n",
       "    <tr style=\"text-align: right;\">\n",
       "      <th></th>\n",
       "      <th>SESSION_ID</th>\n",
       "      <th>IMAGES</th>\n",
       "      <th>REVIEWS</th>\n",
       "      <th>FAQ</th>\n",
       "      <th>SPECS</th>\n",
       "      <th>SHIPPING</th>\n",
       "      <th>BOUGHT_TOGETHER</th>\n",
       "      <th>COMPARE_SIMILAR</th>\n",
       "      <th>VIEW_SIMILAR</th>\n",
       "      <th>WARRANTY</th>\n",
       "      <th>SPONSORED_LINKS</th>\n",
       "      <th>BUY</th>\n",
       "    </tr>\n",
       "  </thead>\n",
       "  <tbody>\n",
       "    <tr>\n",
       "      <td>count</td>\n",
       "      <td>500.0</td>\n",
       "      <td>500.0</td>\n",
       "      <td>500.0</td>\n",
       "      <td>500.0</td>\n",
       "      <td>500.0</td>\n",
       "      <td>500.0</td>\n",
       "      <td>500.0</td>\n",
       "      <td>500.0</td>\n",
       "      <td>500.0</td>\n",
       "      <td>500.0</td>\n",
       "      <td>500.0</td>\n",
       "      <td>500.0</td>\n",
       "    </tr>\n",
       "    <tr>\n",
       "      <td>mean</td>\n",
       "      <td>1250.0</td>\n",
       "      <td>1.0</td>\n",
       "      <td>1.0</td>\n",
       "      <td>0.0</td>\n",
       "      <td>0.0</td>\n",
       "      <td>1.0</td>\n",
       "      <td>0.0</td>\n",
       "      <td>1.0</td>\n",
       "      <td>0.0</td>\n",
       "      <td>1.0</td>\n",
       "      <td>1.0</td>\n",
       "      <td>0.0</td>\n",
       "    </tr>\n",
       "    <tr>\n",
       "      <td>std</td>\n",
       "      <td>144.0</td>\n",
       "      <td>1.0</td>\n",
       "      <td>1.0</td>\n",
       "      <td>0.0</td>\n",
       "      <td>1.0</td>\n",
       "      <td>0.0</td>\n",
       "      <td>1.0</td>\n",
       "      <td>0.0</td>\n",
       "      <td>0.0</td>\n",
       "      <td>0.0</td>\n",
       "      <td>0.0</td>\n",
       "      <td>0.0</td>\n",
       "    </tr>\n",
       "    <tr>\n",
       "      <td>min</td>\n",
       "      <td>1001.0</td>\n",
       "      <td>0.0</td>\n",
       "      <td>0.0</td>\n",
       "      <td>0.0</td>\n",
       "      <td>0.0</td>\n",
       "      <td>0.0</td>\n",
       "      <td>0.0</td>\n",
       "      <td>0.0</td>\n",
       "      <td>0.0</td>\n",
       "      <td>0.0</td>\n",
       "      <td>0.0</td>\n",
       "      <td>0.0</td>\n",
       "    </tr>\n",
       "    <tr>\n",
       "      <td>25%</td>\n",
       "      <td>1126.0</td>\n",
       "      <td>0.0</td>\n",
       "      <td>0.0</td>\n",
       "      <td>0.0</td>\n",
       "      <td>0.0</td>\n",
       "      <td>0.0</td>\n",
       "      <td>0.0</td>\n",
       "      <td>0.0</td>\n",
       "      <td>0.0</td>\n",
       "      <td>0.0</td>\n",
       "      <td>0.0</td>\n",
       "      <td>0.0</td>\n",
       "    </tr>\n",
       "    <tr>\n",
       "      <td>50%</td>\n",
       "      <td>1250.0</td>\n",
       "      <td>1.0</td>\n",
       "      <td>1.0</td>\n",
       "      <td>0.0</td>\n",
       "      <td>0.0</td>\n",
       "      <td>1.0</td>\n",
       "      <td>0.0</td>\n",
       "      <td>1.0</td>\n",
       "      <td>0.0</td>\n",
       "      <td>1.0</td>\n",
       "      <td>1.0</td>\n",
       "      <td>0.0</td>\n",
       "    </tr>\n",
       "    <tr>\n",
       "      <td>75%</td>\n",
       "      <td>1375.0</td>\n",
       "      <td>1.0</td>\n",
       "      <td>1.0</td>\n",
       "      <td>1.0</td>\n",
       "      <td>1.0</td>\n",
       "      <td>1.0</td>\n",
       "      <td>1.0</td>\n",
       "      <td>1.0</td>\n",
       "      <td>1.0</td>\n",
       "      <td>1.0</td>\n",
       "      <td>1.0</td>\n",
       "      <td>1.0</td>\n",
       "    </tr>\n",
       "    <tr>\n",
       "      <td>max</td>\n",
       "      <td>1500.0</td>\n",
       "      <td>1.0</td>\n",
       "      <td>1.0</td>\n",
       "      <td>1.0</td>\n",
       "      <td>1.0</td>\n",
       "      <td>1.0</td>\n",
       "      <td>1.0</td>\n",
       "      <td>1.0</td>\n",
       "      <td>1.0</td>\n",
       "      <td>1.0</td>\n",
       "      <td>1.0</td>\n",
       "      <td>1.0</td>\n",
       "    </tr>\n",
       "  </tbody>\n",
       "</table>\n",
       "</div>"
      ],
      "text/plain": [
       "       SESSION_ID  IMAGES  REVIEWS    FAQ  SPECS  SHIPPING  BOUGHT_TOGETHER  \\\n",
       "count       500.0   500.0    500.0  500.0  500.0     500.0            500.0   \n",
       "mean       1250.0     1.0      1.0    0.0    0.0       1.0              0.0   \n",
       "std         144.0     1.0      1.0    0.0    1.0       0.0              1.0   \n",
       "min        1001.0     0.0      0.0    0.0    0.0       0.0              0.0   \n",
       "25%        1126.0     0.0      0.0    0.0    0.0       0.0              0.0   \n",
       "50%        1250.0     1.0      1.0    0.0    0.0       1.0              0.0   \n",
       "75%        1375.0     1.0      1.0    1.0    1.0       1.0              1.0   \n",
       "max        1500.0     1.0      1.0    1.0    1.0       1.0              1.0   \n",
       "\n",
       "       COMPARE_SIMILAR  VIEW_SIMILAR  WARRANTY  SPONSORED_LINKS    BUY  \n",
       "count            500.0         500.0     500.0            500.0  500.0  \n",
       "mean               1.0           0.0       1.0              1.0    0.0  \n",
       "std                0.0           0.0       0.0              0.0    0.0  \n",
       "min                0.0           0.0       0.0              0.0    0.0  \n",
       "25%                0.0           0.0       0.0              0.0    0.0  \n",
       "50%                1.0           0.0       1.0              1.0    0.0  \n",
       "75%                1.0           1.0       1.0              1.0    1.0  \n",
       "max                1.0           1.0       1.0              1.0    1.0  "
      ]
     },
     "execution_count": 3,
     "metadata": {},
     "output_type": "execute_result"
    }
   ],
   "source": [
    "# Summary statistics\n",
    "prospect_data.describe().round()"
   ]
  },
  {
   "cell_type": "markdown",
   "metadata": {},
   "source": [
    "### Perform Correlation Analysis"
   ]
  },
  {
   "cell_type": "markdown",
   "metadata": {},
   "source": [
    "Let's take an initial look to see if there are any standout actions that correlate with buying. "
   ]
  },
  {
   "cell_type": "code",
   "execution_count": 18,
   "metadata": {},
   "outputs": [
    {
     "data": {
      "text/plain": [
       "SESSION_ID         0.0267\n",
       "IMAGES             0.0468\n",
       "REVIEWS            0.4046\n",
       "FAQ               -0.0951\n",
       "SPECS              0.0099\n",
       "SHIPPING          -0.0222\n",
       "BOUGHT_TOGETHER   -0.1036\n",
       "COMPARE_SIMILAR    0.1905\n",
       "VIEW_SIMILAR      -0.0961\n",
       "WARRANTY           0.1792\n",
       "SPONSORED_LINKS    0.1103\n",
       "BUY                1.0000\n",
       "Name: BUY, dtype: float64"
      ]
     },
     "execution_count": 18,
     "metadata": {},
     "output_type": "execute_result"
    }
   ],
   "source": [
    "prospect_data.corr().round(4)['BUY']"
   ]
  },
  {
   "cell_type": "markdown",
   "metadata": {},
   "source": [
    "We can see the highest correlation is reviews, which makes sense. \n",
    "\n",
    "We can also see that some features e.g. REVIEWS, BOUGHT_TOGETHER, COMPARE_SIMILAR, WARRANTY and SPONSORED_LINKS have higher correlation to the target variable than the others. We will reduce our feature set to that list of variables."
   ]
  },
  {
   "cell_type": "code",
   "execution_count": 20,
   "metadata": {},
   "outputs": [],
   "source": [
    "# Keep columns with highest correlation (e.g. ~ > |0.1|)\n",
    "\n",
    "# Keep/predictors\n",
    "predictors = prospect_data[['REVIEWS',\n",
    "                            'BOUGHT_TOGETHER',\n",
    "                            'COMPARE_SIMILAR',\n",
    "                            'WARRANTY',\n",
    "                            'SPONSORED_LINKS']]\n",
    "\n",
    "# Target\n",
    "target = prospect_data.BUY"
   ]
  },
  {
   "cell_type": "markdown",
   "metadata": {},
   "source": [
    "##  Training and Testing Split\n",
    "\n",
    "We now split the model into training and testing data in the ratio of 70:30"
   ]
  },
  {
   "cell_type": "code",
   "execution_count": 22,
   "metadata": {},
   "outputs": [
    {
     "name": "stdout",
     "output_type": "stream",
     "text": [
      "Predictor - Training :  (350, 5) Predictor - Testing :  (150, 5)\n"
     ]
    }
   ],
   "source": [
    "# Split into train & test sets \n",
    "pred_train, pred_test, tar_train, tar_test  =  train_test_split(predictors, target, test_size=.3)\n",
    "\n",
    "# Preview shape\n",
    "print( \"Predictor - Training : \", pred_train.shape, \"Predictor - Testing : \", pred_test.shape )"
   ]
  },
  {
   "cell_type": "markdown",
   "metadata": {},
   "source": [
    "Looks good. Proceed to build model. "
   ]
  },
  {
   "cell_type": "markdown",
   "metadata": {},
   "source": [
    "## Build Model and Check Accuracy"
   ]
  },
  {
   "cell_type": "code",
   "execution_count": 23,
   "metadata": {},
   "outputs": [
    {
     "data": {
      "text/plain": [
       "array([[81, 19],\n",
       "       [24, 26]])"
      ]
     },
     "execution_count": 23,
     "metadata": {},
     "output_type": "execute_result"
    }
   ],
   "source": [
    "# Import Naive Bayes Classifier\n",
    "from sklearn.naive_bayes import GaussianNB\n",
    "\n",
    "# Instantiate Classifier\n",
    "classifier = GaussianNB()\n",
    "\n",
    "# Fit Classifier on Train Set\n",
    "classifier = classifier.fit(pred_train, tar_train)\n",
    "\n",
    "#  Make Predictions on Test Set\n",
    "predictions = classifier.predict(pred_test)\n",
    "\n",
    "# Check Accuracy of Predictions w/Confusion Matrix\n",
    "sklearn.metrics.confusion_matrix(tar_test, predictions)"
   ]
  },
  {
   "cell_type": "markdown",
   "metadata": {},
   "source": [
    "Let's go ahead and plot this normalized for a better visual."
   ]
  },
  {
   "cell_type": "code",
   "execution_count": 38,
   "metadata": {},
   "outputs": [
    {
     "data": {
      "image/png": "[encoded data removed]",
      "text/plain": [
       "<Figure size 432x288 with 2 Axes>"
      ]
     },
     "metadata": {
      "needs_background": "light"
     },
     "output_type": "display_data"
    }
   ],
   "source": [
    "from sklearn.metrics import plot_confusion_matrix\n",
    "sklearn.metrics.plot_confusion_matrix(classifier,\n",
    "                                      pred_test,\n",
    "                                      tar_test,\n",
    "                                      normalize='true',\n",
    "                                      cmap='Blues')\n",
    "plt.show()"
   ]
  },
  {
   "cell_type": "code",
   "execution_count": 44,
   "metadata": {},
   "outputs": [
    {
     "data": {
      "text/plain": [
       "0.71333"
      ]
     },
     "execution_count": 44,
     "metadata": {},
     "output_type": "execute_result"
    }
   ],
   "source": [
    "# Check Accuracy Score \n",
    "sklearn.metrics.accuracy_score(tar_test, predictions).round(5)"
   ]
  },
  {
   "cell_type": "markdown",
   "metadata": {},
   "source": [
    "Instead of doing a Yes/No prediction, we can instead do a probability computation to show the probability for the prospect to buy the product"
   ]
  },
  {
   "cell_type": "code",
   "execution_count": 45,
   "metadata": {},
   "outputs": [
    {
     "data": {
      "text/plain": [
       "array([[0.31376614, 0.68623386],\n",
       "       [0.81885553, 0.18114447],\n",
       "       [0.56408705, 0.43591295],\n",
       "       [0.66457185, 0.33542815],\n",
       "       [0.44845782, 0.55154218],\n",
       "       [0.44845782, 0.55154218],\n",
       "       [0.90910732, 0.09089268],\n",
       "       [0.83181067, 0.16818933],\n",
       "       [0.87375571, 0.12624429],\n",
       "       [0.64975759, 0.35024241],\n",
       "       [0.66457185, 0.33542815],\n",
       "       [0.83181067, 0.16818933],\n",
       "       [0.89790691, 0.10209309],\n",
       "       [0.92337793, 0.07662207],\n",
       "       [0.81885553, 0.18114447],\n",
       "       [0.89790691, 0.10209309],\n",
       "       [0.76360479, 0.23639521],\n",
       "       [0.56408705, 0.43591295],\n",
       "       [0.20798044, 0.79201956],\n",
       "       [0.92337793, 0.07662207],\n",
       "       [0.52699083, 0.47300917],\n",
       "       [0.56408705, 0.43591295],\n",
       "       [0.56408705, 0.43591295],\n",
       "       [0.89790691, 0.10209309],\n",
       "       [0.88727306, 0.11272694],\n",
       "       [0.81885553, 0.18114447],\n",
       "       [0.64975759, 0.35024241],\n",
       "       [0.44845782, 0.55154218],\n",
       "       [0.56408705, 0.43591295],\n",
       "       [0.76360479, 0.23639521],\n",
       "       [0.87375571, 0.12624429],\n",
       "       [0.77526914, 0.22473086],\n",
       "       [0.48043465, 0.51956535],\n",
       "       [0.22995953, 0.77004047],\n",
       "       [0.85172717, 0.14827283],\n",
       "       [0.92337793, 0.07662207],\n",
       "       [0.1464011 , 0.8535989 ],\n",
       "       [0.81885553, 0.18114447],\n",
       "       [0.89790691, 0.10209309],\n",
       "       [0.81885553, 0.18114447],\n",
       "       [0.9333205 , 0.0666795 ],\n",
       "       [0.6926074 , 0.3073926 ],\n",
       "       [0.20798044, 0.79201956],\n",
       "       [0.22995953, 0.77004047],\n",
       "       [0.1464011 , 0.8535989 ],\n",
       "       [0.1464011 , 0.8535989 ],\n",
       "       [0.22995953, 0.77004047],\n",
       "       [0.88727306, 0.11272694],\n",
       "       [0.87375571, 0.12624429],\n",
       "       [0.89790691, 0.10209309],\n",
       "       [0.77526914, 0.22473086],\n",
       "       [0.89790691, 0.10209309],\n",
       "       [0.56408705, 0.43591295],\n",
       "       [0.76360479, 0.23639521],\n",
       "       [0.6926074 , 0.3073926 ],\n",
       "       [0.56408705, 0.43591295],\n",
       "       [0.29474012, 0.70525988],\n",
       "       [0.42118742, 0.57881258],\n",
       "       [0.44845782, 0.55154218],\n",
       "       [0.92337793, 0.07662207],\n",
       "       [0.42118742, 0.57881258],\n",
       "       [0.58605192, 0.41394808],\n",
       "       [0.83181067, 0.16818933],\n",
       "       [0.44845782, 0.55154218],\n",
       "       [0.64975759, 0.35024241],\n",
       "       [0.77526914, 0.22473086],\n",
       "       [0.29474012, 0.70525988],\n",
       "       [0.92337793, 0.07662207],\n",
       "       [0.81885553, 0.18114447],\n",
       "       [0.56408705, 0.43591295],\n",
       "       [0.42118742, 0.57881258],\n",
       "       [0.81885553, 0.18114447],\n",
       "       [0.76360479, 0.23639521],\n",
       "       [0.42118742, 0.57881258],\n",
       "       [0.64975759, 0.35024241],\n",
       "       [0.97390047, 0.02609953],\n",
       "       [0.81885553, 0.18114447],\n",
       "       [0.22995953, 0.77004047],\n",
       "       [0.83181067, 0.16818933],\n",
       "       [0.58605192, 0.41394808],\n",
       "       [0.87375571, 0.12624429],\n",
       "       [0.83181067, 0.16818933],\n",
       "       [0.22995953, 0.77004047],\n",
       "       [0.3901925 , 0.6098075 ],\n",
       "       [0.22995953, 0.77004047],\n",
       "       [0.77526914, 0.22473086],\n",
       "       [0.22995953, 0.77004047],\n",
       "       [0.88727306, 0.11272694],\n",
       "       [0.83181067, 0.16818933],\n",
       "       [0.29474012, 0.70525988],\n",
       "       [0.42118742, 0.57881258],\n",
       "       [0.6926074 , 0.3073926 ],\n",
       "       [0.64975759, 0.35024241],\n",
       "       [0.6926074 , 0.3073926 ],\n",
       "       [0.22995953, 0.77004047],\n",
       "       [0.1464011 , 0.8535989 ],\n",
       "       [0.56408705, 0.43591295],\n",
       "       [0.76360479, 0.23639521],\n",
       "       [0.42118742, 0.57881258],\n",
       "       [0.3901925 , 0.6098075 ],\n",
       "       [0.58605192, 0.41394808],\n",
       "       [0.6926074 , 0.3073926 ],\n",
       "       [0.92337793, 0.07662207],\n",
       "       [0.64975759, 0.35024241],\n",
       "       [0.20798044, 0.79201956],\n",
       "       [0.92337793, 0.07662207],\n",
       "       [0.56408705, 0.43591295],\n",
       "       [0.1464011 , 0.8535989 ],\n",
       "       [0.92337793, 0.07662207],\n",
       "       [0.93870212, 0.06129788],\n",
       "       [0.76360479, 0.23639521],\n",
       "       [0.93870212, 0.06129788],\n",
       "       [0.83181067, 0.16818933],\n",
       "       [0.58605192, 0.41394808],\n",
       "       [0.76360479, 0.23639521],\n",
       "       [0.44845782, 0.55154218],\n",
       "       [0.81885553, 0.18114447],\n",
       "       [0.29474012, 0.70525988],\n",
       "       [0.66457185, 0.33542815],\n",
       "       [0.3901925 , 0.6098075 ],\n",
       "       [0.88727306, 0.11272694],\n",
       "       [0.6926074 , 0.3073926 ],\n",
       "       [0.56408705, 0.43591295],\n",
       "       [0.42118742, 0.57881258],\n",
       "       [0.64975759, 0.35024241],\n",
       "       [0.97390047, 0.02609953],\n",
       "       [0.81885553, 0.18114447],\n",
       "       [0.77526914, 0.22473086],\n",
       "       [0.1464011 , 0.8535989 ],\n",
       "       [0.85172717, 0.14827283],\n",
       "       [0.29474012, 0.70525988],\n",
       "       [0.81885553, 0.18114447],\n",
       "       [0.31376614, 0.68623386],\n",
       "       [0.52699083, 0.47300917],\n",
       "       [0.6926074 , 0.3073926 ],\n",
       "       [0.56408705, 0.43591295],\n",
       "       [0.81885553, 0.18114447],\n",
       "       [0.56408705, 0.43591295],\n",
       "       [0.87375571, 0.12624429],\n",
       "       [0.42118742, 0.57881258],\n",
       "       [0.92337793, 0.07662207],\n",
       "       [0.87375571, 0.12624429],\n",
       "       [0.44845782, 0.55154218],\n",
       "       [0.85172717, 0.14827283],\n",
       "       [0.42118742, 0.57881258],\n",
       "       [0.87375571, 0.12624429],\n",
       "       [0.93870212, 0.06129788],\n",
       "       [0.96058601, 0.03941399],\n",
       "       [0.22995953, 0.77004047],\n",
       "       [0.56408705, 0.43591295]])"
      ]
     },
     "execution_count": 45,
     "metadata": {},
     "output_type": "execute_result"
    }
   ],
   "source": [
    "# Calculate Probabilities\n",
    "pred_prob = classifier.predict_proba(pred_test)\n",
    "\n",
    "# Preview Probabilities [Yes, No]\n",
    "pred_prob"
   ]
  },
  {
   "cell_type": "markdown",
   "metadata": {},
   "source": [
    "The probability above can be read as first column = chance that the prospect will buy the product & second column = chance the prospect won't buy the product. "
   ]
  },
  {
   "cell_type": "markdown",
   "metadata": {},
   "source": [
    "## Real-time predictions\n",
    "\n",
    "Now that the model has been built, let's use it for real-time predictions. This way, when the customer visits the pages, we collect that information and use it to compute probability. We will compute probability for every new click that comes in with our real-time predictor variable data.\n",
    "\n",
    "Let's now imagine the prospect has landed on the website. There are no significant clicks yet. Let's compute probability of buying. \n",
    "\n",
    "The array of values passed has the values for our predictor variables: REVIEWS, BOUGHT_TOGETHER, COMPARE_SIMILAR, WARRANTY and SPONSORED_LINKS. Since the visitor has just landed on the first page, the array will start out as all zeros."
   ]
  },
  {
   "cell_type": "code",
   "execution_count": 46,
   "metadata": {},
   "outputs": [
    {
     "name": "stdout",
     "output_type": "stream",
     "text": [
      "New visitor: propensity : [0.04458193]\n"
     ]
    }
   ],
   "source": [
    "# Set imaginary browsing data based on first landing\n",
    "browsing_data = np.array([0,0,0,0,0]).reshape(1, -1)\n",
    "\n",
    "# Predict probability of buying\n",
    "print(\"New visitor: propensity :\",classifier.predict_proba(browsing_data)[:,1] )"
   ]
  },
  {
   "cell_type": "markdown",
   "metadata": {},
   "source": [
    "So the initial probability is 4%. Now, suppose the customer does a comparison of similar products. The array changes to include a 1 for that function. The new probability will be"
   ]
  },
  {
   "cell_type": "code",
   "execution_count": 47,
   "metadata": {},
   "outputs": [
    {
     "name": "stdout",
     "output_type": "stream",
     "text": [
      "After checking similar products: propensity : [0.12624429]\n"
     ]
    }
   ],
   "source": [
    "# Set imaginary browsing data based on comparison of similar products\n",
    "browsing_data = np.array([0,0,1,0,0]).reshape(1, -1)\n",
    "\n",
    "# Predict new probability of buying\n",
    "print(\"After checking similar products: propensity :\",classifier.predict_proba(browsing_data)[:,1] )"
   ]
  },
  {
   "cell_type": "markdown",
   "metadata": {},
   "source": [
    "It goes up. Next, the visitor checks out the product reviews."
   ]
  },
  {
   "cell_type": "code",
   "execution_count": 48,
   "metadata": {},
   "outputs": [
    {
     "name": "stdout",
     "output_type": "stream",
     "text": [
      "After checking reviews: propensity : [0.6098075]\n"
     ]
    }
   ],
   "source": [
    "# Set imaginary browsing data based on reading product reviews\n",
    "browsing_data = np.array([1,0,1,0,0]).reshape(1, -1)\n",
    "\n",
    "# Predict new probability of buying\n",
    "print(\"After checking reviews: propensity :\",classifier.predict_proba(browsing_data)[:,1] )"
   ]
  },
  {
   "cell_type": "markdown",
   "metadata": {},
   "source": [
    "It shoots up to 60+%. You can have a threshold for when you want to offer chat. You can keep checking this probability against that threshold to see if you want a chat window to popup.\n",
    "\n",
    "This example shows how to use predictive analytics in real time to decide whether a prospect has high propensity to convert and offer them a chat with a live sales rep/agent."
   ]
  },
  {
   "cell_type": "code",
   "execution_count": null,
   "metadata": {
    "collapsed": true
   },
   "outputs": [],
   "source": []
  }
 ],
 "metadata": {
  "kernelspec": {
   "display_name": "Python [conda env:learn-env] *",
   "language": "python",
   "name": "conda-env-learn-env-py"
  },
  "language_info": {
   "codemirror_mode": {
    "name": "ipython",
    "version": 3
   },
   "file_extension": ".py",
   "mimetype": "text/x-python",
   "name": "python",
   "nbconvert_exporter": "python",
   "pygments_lexer": "ipython3",
   "version": "3.6.9"
  },
  "toc": {
   "base_numbering": 1,
   "nav_menu": {},
   "number_sections": true,
   "sideBar": true,
   "skip_h1_title": false,
   "title_cell": "Table of Contents",
   "title_sidebar": "Contents",
   "toc_cell": true,
   "toc_position": {},
   "toc_section_display": true,
   "toc_window_display": false
  }
 },
 "nbformat": 4,
 "nbformat_minor": 1
}
